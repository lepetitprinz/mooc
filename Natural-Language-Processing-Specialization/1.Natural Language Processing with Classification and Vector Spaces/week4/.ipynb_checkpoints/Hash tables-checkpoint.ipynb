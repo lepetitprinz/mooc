{
 "cells": [
  {
   "cell_type": "markdown",
   "id": "d0e33c24",
   "metadata": {},
   "source": [
    "### Hash functions and multiplanes\n",
    "\n",
    "- Basic hash tables\n",
    "- Multiplanes\n",
    "- Random planes"
   ]
  },
  {
   "cell_type": "code",
   "execution_count": 14,
   "id": "59014787",
   "metadata": {},
   "outputs": [],
   "source": [
    "import pprint\n",
    "import numpy as np\n",
    "import matplotlib.pyplot as plt\n",
    "\n",
    "pp = pprint.PrettyPrinter(indent=2)"
   ]
  },
  {
   "cell_type": "code",
   "execution_count": 8,
   "id": "67831523",
   "metadata": {},
   "outputs": [],
   "source": [
    "def basic_hash_table(value_1, n_buckets):\n",
    "    def hash_function(value, n_buckets):\n",
    "        return value % n_buckets\n",
    "    \n",
    "    # Initializer all the buckets in the hash table as empty lists\n",
    "    hash_table = {i: [] for i in range(n_buckets)}\n",
    "    for value in value_l:\n",
    "        hash_value = hash_function(value, n_buckets)\n",
    "        hash_table[hash_value].append(value)\n",
    "        \n",
    "    return hash_table"
   ]
  },
  {
   "cell_type": "code",
   "execution_count": 15,
   "id": "a45a6b06",
   "metadata": {},
   "outputs": [
    {
     "name": "stdout",
     "output_type": "stream",
     "text": [
      "{ 0: [100, 10],\n",
      "  1: [],\n",
      "  2: [],\n",
      "  3: [],\n",
      "  4: [14],\n",
      "  5: [],\n",
      "  6: [],\n",
      "  7: [17, 97],\n",
      "  8: [],\n",
      "  9: []}\n"
     ]
    }
   ],
   "source": [
    "value_l = [100, 10, 14, 17, 97] \n",
    "hash_table_ex = basic_hash_table(value_1=value_l, n_buckets=10)\n",
    "pp.pprint(hash_table_ex)"
   ]
  },
  {
   "cell_type": "markdown",
   "id": "6a03992b",
   "metadata": {},
   "source": [
    "#### Planes\n",
    " \n",
    "Multiplanes hash functions are other types of hash functions. Multiplanes hash functions are based on the idea of numbering every single region that is formed by the intersection of n planes"
   ]
  },
  {
   "cell_type": "code",
   "execution_count": 19,
   "id": "32cb0cb7",
   "metadata": {},
   "outputs": [],
   "source": [
    "# Procedure to plot and arrows that represents vectors with pyplot\n",
    "def plot_vectors(vectors, colors=['k', 'b', 'r', 'm', 'c'], axes=None, fname='image.svg', ax=None):\n",
    "    scale = 1\n",
    "    scale_units = 'x'\n",
    "    x_dir = []\n",
    "    y_dir = []\n",
    "    \n",
    "    for i, vec in enumerate(vectors):\n",
    "        x_dir.append(vec[0][0])\n",
    "        y_dir.append(vec[0][1])\n",
    "    \n",
    "    if ax == None:\n",
    "        fig, ax2 = plt.subplots()\n",
    "    else:\n",
    "        ax2 = ax\n",
    "      \n",
    "    if axes == None:\n",
    "        x_axis = 2 + np.max(np.abs(x_dir))\n",
    "        y_axis = 2 + np.max(np.abs(y_dir))\n",
    "    else:\n",
    "        x_axis = axes[0]\n",
    "        y_axis = axes[1]\n",
    "        \n",
    "    ax2.axis([-x_axis, x_axis, -y_axis, y_axis])\n",
    "        \n",
    "    for i, vec in enumerate(vectors):\n",
    "        ax2.arrow(0, 0, vec[0][0], vec[0][1], head_width=0.05 * x_axis, head_length=0.05 * y_axis, fc=colors[i], ec=colors[i])\n",
    "    \n",
    "    if ax == None:\n",
    "        plt.show()\n",
    "        fig.savefig(fname)"
   ]
  },
  {
   "cell_type": "code",
   "execution_count": 20,
   "id": "88a31dd2",
   "metadata": {},
   "outputs": [
    {
     "data": {
      "image/png": "[encoded data removed]",
      "text/plain": [
       "<Figure size 576x576 with 1 Axes>"
      ]
     },
     "metadata": {
      "needs_background": "light"
     },
     "output_type": "display_data"
    }
   ],
   "source": [
    "p = np.array([[1, 1]])   # define a single plane\n",
    "fig, ax1 = plt.subplots(figsize=(8, 8))\n",
    "\n",
    "plot_vectors([p], axes=[2, 2], ax=ax1)\n",
    "\n",
    "for i in range(0, 10):\n",
    "    vl = np.array(np.random.uniform(-2, 2, 2))    # get a pair of random numbers between -2 and 2\n",
    "    side_of_plane = np.sign(np.dot(p, vl.T))\n",
    "    \n",
    "    # Color the points depending on the sign of the results oof np.dot(p point.T)\n",
    "    if side_of_plane == 1:\n",
    "        ax1.plot([vl[0]], [vl[1]], 'bo')\n",
    "    else:\n",
    "        ax1.plot([vl[0]], [vl[1]], 'ro')"
   ]
  },
  {
   "cell_type": "code",
   "execution_count": 21,
   "id": "123dd6d0",
   "metadata": {},
   "outputs": [],
   "source": [
    "def side_of_plane(p, v):\n",
    "    dot_product = np.dot(p, v.T)\n",
    "    sign_of_dot_product = np.sign(dot_product)\n",
    "    sign_of_dot_product_scalar = sign_of_dot_product.item()\n",
    "    \n",
    "    return sign_of_dot_product_scalar"
   ]
  },
  {
   "cell_type": "code",
   "execution_count": 22,
   "id": "5edc886e",
   "metadata": {},
   "outputs": [],
   "source": [
    "P = np.array([[1, 1]])      # Single plane\n",
    "v1 = np.array([[1, 2]])     # Sample point 1\n",
    "v2 = np.array([[-1, 1]])    # Sample point 2\n",
    "v3 = np.array([[-2, -1]])   # Sample point 3"
   ]
  },
  {
   "cell_type": "code",
   "execution_count": 23,
   "id": "6f919dc7",
   "metadata": {},
   "outputs": [
    {
     "name": "stdout",
     "output_type": "stream",
     "text": [
      "1\n",
      "0\n",
      "-1\n"
     ]
    }
   ],
   "source": [
    "print(side_of_plane(P, v1))\n",
    "print(side_of_plane(P, v2))\n",
    "print(side_of_plane(P, v3))"
   ]
  },
  {
   "cell_type": "markdown",
   "id": "6a1ffc37",
   "metadata": {},
   "source": [
    "#### Hash Function with multiple planes"
   ]
  },
  {
   "cell_type": "code",
   "execution_count": 24,
   "id": "a8c74fe6",
   "metadata": {},
   "outputs": [],
   "source": [
    "p1 = np.array([[1, 1]])   # First plane 2D\n",
    "p2 = np.array([[-1, 1]])  # Second plane 2D\n",
    "p3 = np.array([[-1, -1]]) # Third plane 2D\n",
    "p_l = [p1, p2, p3]  # List of arrays. It is the multi plane\n",
    "\n",
    "# Vector to search\n",
    "v = np.array([[2, 2]])"
   ]
  },
  {
   "cell_type": "code",
   "execution_count": 25,
   "id": "4c88ea60",
   "metadata": {},
   "outputs": [],
   "source": [
    "def hash_multi_plane(p_l, v):\n",
    "    hash_value = 0\n",
    "    for i, p in enumerate(p_l):\n",
    "        sign = side_of_plane(p, v)\n",
    "        hash_i = 1 if sign >=0 else 0\n",
    "        hash_value += 2 ** i * hash_i\n",
    "    \n",
    "    return hash_value"
   ]
  },
  {
   "cell_type": "code",
   "execution_count": 26,
   "id": "9e6de66f",
   "metadata": {},
   "outputs": [
    {
     "data": {
      "text/plain": [
       "3"
      ]
     },
     "execution_count": 26,
     "metadata": {},
     "output_type": "execute_result"
    }
   ],
   "source": [
    "hash_multi_plane(p_l, v)"
   ]
  },
  {
   "cell_type": "markdown",
   "id": "81cc749c",
   "metadata": {},
   "source": [
    "#### Random Planes"
   ]
  },
  {
   "cell_type": "code",
   "execution_count": 36,
   "id": "fd2cf3aa",
   "metadata": {},
   "outputs": [
    {
     "name": "stdout",
     "output_type": "stream",
     "text": [
      "[[ 1.48860905  0.67601087]\n",
      " [-0.41845137 -0.80652081]\n",
      " [ 0.55587583 -0.70550429]]\n"
     ]
    }
   ],
   "source": [
    "np.random.seed(2021)\n",
    "num_dimensions = 2\n",
    "num_planes = 3\n",
    "random_planes_matrix = np.random.normal(size=(num_planes, num_dimensions))\n",
    "print(random_planes_matrix)"
   ]
  },
  {
   "cell_type": "code",
   "execution_count": 37,
   "id": "3fa88646",
   "metadata": {},
   "outputs": [],
   "source": [
    "v = np.array([[2, 2]])"
   ]
  },
  {
   "cell_type": "code",
   "execution_count": 38,
   "id": "43e07cf1",
   "metadata": {},
   "outputs": [],
   "source": [
    "def side_of_plane_matrix(p, v):\n",
    "    dot_product = np.dot(p, v.T)\n",
    "    sign_of_dot_product = np.sign(dot_product)\n",
    "    \n",
    "    return sign_of_dot_product"
   ]
  },
  {
   "cell_type": "code",
   "execution_count": 39,
   "id": "fcf99cbd",
   "metadata": {},
   "outputs": [
    {
     "data": {
      "text/plain": [
       "array([[ 1.],\n",
       "       [-1.],\n",
       "       [-1.]])"
      ]
     },
     "execution_count": 39,
     "metadata": {},
     "output_type": "execute_result"
    }
   ],
   "source": [
    "sides_l = side_of_plane_matrix(random_planes_matrix, v)\n",
    "sides_l"
   ]
  },
  {
   "cell_type": "code",
   "execution_count": 40,
   "id": "22cbcde3",
   "metadata": {},
   "outputs": [],
   "source": [
    "def hash_multi_plane_matrix(p, v, num_planes):\n",
    "    sides_matrix = side_of_plane_matrix(p, v)\n",
    "    hash_value = 0\n",
    "    for i in range(num_planes):\n",
    "        sign = sides_matrix[i].item()\n",
    "        hash_i = 1 if sign >= 0 else 0\n",
    "        hash_value += 2**i * hash_i\n",
    "    \n",
    "    return hash_value"
   ]
  },
  {
   "cell_type": "code",
   "execution_count": 41,
   "id": "db99ab84",
   "metadata": {},
   "outputs": [
    {
     "data": {
      "text/plain": [
       "1"
      ]
     },
     "execution_count": 41,
     "metadata": {},
     "output_type": "execute_result"
    }
   ],
   "source": [
    "hash_multi_plane_matrix(random_planes_matrix, v, num_planes)"
   ]
  },
  {
   "cell_type": "markdown",
   "id": "820fd36a",
   "metadata": {},
   "source": [
    "#### Document vectors\n",
    " \n",
    "Before we finish this lab, remember that you can represent a document as a vector by adding up the word vectors for the words inside the document. In this example, our embedding contains only three words, each represented by a 3D array."
   ]
  },
  {
   "cell_type": "code",
   "execution_count": 42,
   "id": "03e4ed14",
   "metadata": {},
   "outputs": [
    {
     "name": "stdout",
     "output_type": "stream",
     "text": [
      "[1 0 3]\n"
     ]
    }
   ],
   "source": [
    "word_embedding = {\"I\": np.array([1,0,1]),\n",
    "                   \"love\": np.array([-1,0,1]),\n",
    "                   \"learning\": np.array([1,0,1])}\n",
    "words_in_document = ['I', 'love', 'learning', 'not_a_word']\n",
    "document_embedding = np.array([0,0,0])\n",
    "for word in words_in_document:\n",
    "    document_embedding += word_embedding.get(word, 0)\n",
    "    \n",
    "print(document_embedding)"
   ]
  },
  {
   "cell_type": "code",
   "execution_count": null,
   "id": "65c16499",
   "metadata": {},
   "outputs": [],
   "source": []
  }
 ],
 "metadata": {
  "kernelspec": {
   "display_name": "Python 3",
   "language": "python",
   "name": "python3"
  },
  "language_info": {
   "codemirror_mode": {
    "name": "ipython",
    "version": 3
   },
   "file_extension": ".py",
   "mimetype": "text/x-python",
   "name": "python",
   "nbconvert_exporter": "python",
   "pygments_lexer": "ipython3",
   "version": "3.7.9"
  }
 },
 "nbformat": 4,
 "nbformat_minor": 5
}
