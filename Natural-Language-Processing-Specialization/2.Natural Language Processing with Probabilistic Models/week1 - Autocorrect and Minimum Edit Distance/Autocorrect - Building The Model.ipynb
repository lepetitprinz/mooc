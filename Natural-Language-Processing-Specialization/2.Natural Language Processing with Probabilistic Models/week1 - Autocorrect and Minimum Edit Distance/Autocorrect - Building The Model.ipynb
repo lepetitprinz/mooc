{
 "cells": [
  {
   "cell_type": "markdown",
   "id": "1590aec2",
   "metadata": {},
   "source": [
    "### Vocalbulary Creation"
   ]
  },
  {
   "cell_type": "markdown",
   "id": "4d4d2e00",
   "metadata": {},
   "source": [
    "#### Imports and Data"
   ]
  },
  {
   "cell_type": "code",
   "execution_count": 21,
   "id": "a726cfb5",
   "metadata": {},
   "outputs": [],
   "source": [
    "import re\n",
    "import pandas as pd\n",
    "from collections import Counter\n",
    "import matplotlib.pyplot as plt\n",
    "import seaborn as sns"
   ]
  },
  {
   "cell_type": "code",
   "execution_count": 2,
   "id": "a75bafd8",
   "metadata": {},
   "outputs": [
    {
     "name": "stdout",
     "output_type": "stream",
     "text": [
      "string length:  52\n"
     ]
    }
   ],
   "source": [
    "text = 'red pink pink blue blue yellow ORANGE BLUE BLUE PINK'\n",
    "print('string length: ', len(text))"
   ]
  },
  {
   "cell_type": "markdown",
   "id": "6e3ac10e",
   "metadata": {},
   "source": [
    "#### Preprocessing"
   ]
  },
  {
   "cell_type": "code",
   "execution_count": 3,
   "id": "f555edc3",
   "metadata": {},
   "outputs": [
    {
     "name": "stdout",
     "output_type": "stream",
     "text": [
      "red pink pink blue blue yellow orange blue blue pink\n",
      "string length:  52\n"
     ]
    }
   ],
   "source": [
    "# convert all letters to lower case\n",
    "text_lowercase = text.lower()\n",
    "print(text_lowercase)\n",
    "print('string length: ', len(text_lowercase))"
   ]
  },
  {
   "cell_type": "code",
   "execution_count": 4,
   "id": "c20755f0",
   "metadata": {},
   "outputs": [
    {
     "name": "stdout",
     "output_type": "stream",
     "text": [
      "['red', 'pink', 'pink', 'blue', 'blue', 'yellow', 'orange', 'blue', 'blue', 'pink']\n",
      "count:  10\n"
     ]
    }
   ],
   "source": [
    "# regex to tokenize the string to words and return them in a list\n",
    "words = re.findall(r'\\w+', text_lowercase)\n",
    "print(words)\n",
    "print('count: ', len(words))"
   ]
  },
  {
   "cell_type": "markdown",
   "id": "8e31238b",
   "metadata": {},
   "source": [
    "#### Create Vocabulary"
   ]
  },
  {
   "cell_type": "code",
   "execution_count": 5,
   "id": "02192420",
   "metadata": {},
   "outputs": [
    {
     "name": "stdout",
     "output_type": "stream",
     "text": [
      "{'pink', 'orange', 'red', 'blue', 'yellow'}\n",
      "count:  5\n"
     ]
    }
   ],
   "source": [
    "# create vocab\n",
    "vocab = set(words)\n",
    "print(vocab)\n",
    "print('count: ', len(vocab))"
   ]
  },
  {
   "cell_type": "markdown",
   "id": "448e782a",
   "metadata": {},
   "source": [
    "#### Add Information with Word Counts"
   ]
  },
  {
   "cell_type": "code",
   "execution_count": 6,
   "id": "b1f09531",
   "metadata": {},
   "outputs": [
    {
     "name": "stdout",
     "output_type": "stream",
     "text": [
      "{'red': 1, 'pink': 3, 'blue': 4, 'yellow': 1, 'orange': 1}\n",
      "count:  5\n"
     ]
    }
   ],
   "source": [
    "# create vocab including word count\n",
    "counts_a = dict()\n",
    "for w in words:\n",
    "    counts_a[w] = counts_a.get(w, 0) + 1\n",
    "\n",
    "print(counts_a)\n",
    "print('count: ', len(counts_a))"
   ]
  },
  {
   "cell_type": "code",
   "execution_count": 8,
   "id": "6a076573",
   "metadata": {},
   "outputs": [
    {
     "name": "stdout",
     "output_type": "stream",
     "text": [
      "Counter({'blue': 4, 'pink': 3, 'red': 1, 'yellow': 1, 'orange': 1})\n",
      "count:  5\n"
     ]
    }
   ],
   "source": [
    "# create vocab including word count using collections.Counter\n",
    "counts_b = dict()\n",
    "counts_b = Counter(words)\n",
    "\n",
    "print(counts_b)\n",
    "print('count: ', len(counts_b))"
   ]
  },
  {
   "cell_type": "code",
   "execution_count": 24,
   "id": "24ba02b5",
   "metadata": {},
   "outputs": [
    {
     "data": {
      "image/png": "[encoded data removed]",
      "text/plain": [
       "<Figure size 432x288 with 1 Axes>"
      ]
     },
     "metadata": {
      "needs_background": "light"
     },
     "output_type": "display_data"
    }
   ],
   "source": [
    "# barchart of sorted word counts\n",
    "d = {'blue': counts_b['blue'], 'pink': counts_b['pink'], 'red': counts_b['red'], 'yellow': counts_b['yellow'], 'orange': counts_b['orange']}\n",
    "d_df = pd.DataFrame({'color': list(d.keys()), 'value': list(d.values())})\n",
    "sns.barplot(x='color', y='value', data=d_df)\n",
    "_ = plt.xticks(range(len(d)), list(d.keys()))"
   ]
  }
 ],
 "metadata": {
  "kernelspec": {
   "display_name": "Python 3",
   "language": "python",
   "name": "python3"
  },
  "language_info": {
   "codemirror_mode": {
    "name": "ipython",
    "version": 3
   },
   "file_extension": ".py",
   "mimetype": "text/x-python",
   "name": "python",
   "nbconvert_exporter": "python",
   "pygments_lexer": "ipython3",
   "version": "3.7.9"
  }
 },
 "nbformat": 4,
 "nbformat_minor": 5
}
