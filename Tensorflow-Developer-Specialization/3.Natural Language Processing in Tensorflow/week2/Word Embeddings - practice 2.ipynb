{
 "cells": [
  {
   "cell_type": "code",
   "execution_count": 15,
   "id": "be710d9c",
   "metadata": {},
   "outputs": [],
   "source": [
    "import json\n",
    "import numpy as np\n",
    "import matplotlib.pyplot as plt\n",
    "import tensorflow as tf\n",
    "\n",
    "from tensorflow.keras.preprocessing.text import Tokenizer\n",
    "from tensorflow.keras.preprocessing.sequence import pad_sequences"
   ]
  },
  {
   "cell_type": "code",
   "execution_count": 2,
   "id": "6cf202ff",
   "metadata": {},
   "outputs": [],
   "source": [
    "vocab_size = 10000\n",
    "embedding_dim = 16\n",
    "max_length = 100\n",
    "trunc_type = 'post'\n",
    "padding_type = 'post'\n",
    "oov_tok = \"<OOV>\"\n",
    "training_size = 20000"
   ]
  },
  {
   "cell_type": "code",
   "execution_count": 4,
   "id": "b320dd4d",
   "metadata": {},
   "outputs": [],
   "source": [
    "with open(\"sarcasm.json\", 'r') as f:\n",
    "    datastore = json.load(f)\n",
    "    \n",
    "sentences = []\n",
    "labels = []\n",
    "\n",
    "for item in datastore:\n",
    "    sentences.append(item['headline'])\n",
    "    labels.append(item['is_sarcastic'])"
   ]
  },
  {
   "cell_type": "code",
   "execution_count": 5,
   "id": "4fb3437b",
   "metadata": {},
   "outputs": [],
   "source": [
    "training_sentences = sentences[0: training_size]\n",
    "testing_sentences = sentences[training_size:]\n",
    "training_labels = labels[0: training_size]\n",
    "testing_labels = labels[training_size:]"
   ]
  },
  {
   "cell_type": "code",
   "execution_count": 8,
   "id": "b8ae31bc",
   "metadata": {},
   "outputs": [],
   "source": [
    "tokenizer = Tokenizer(num_words=vocab_size, oov_token=oov_tok)\n",
    "tokenizer.fit_on_texts(training_sentences)\n",
    "\n",
    "word_index = tokenizer.word_index\n",
    "\n",
    "training_sequences = tokenizer.texts_to_sequences(training_sentences)\n",
    "training_padded = pad_sequences(training_sequences, maxlen=max_length, \n",
    "                                padding=padding_type, truncating=trunc_type)\n",
    "\n",
    "testing_sequences = tokenizer.texts_to_sequences(testing_sentences)\n",
    "testing_padded = pad_sequences(testing_sequences, maxlen=max_length,\n",
    "                              padding=padding_type, truncating=trunc_type)"
   ]
  },
  {
   "cell_type": "code",
   "execution_count": 10,
   "id": "a32c85e5",
   "metadata": {},
   "outputs": [],
   "source": [
    "training_padded = np.array(training_padded)\n",
    "training_labels = np.array(training_labels)\n",
    "testing_padded = np.array(testing_padded)\n",
    "testing_labels = np.array(testing_labels)"
   ]
  },
  {
   "cell_type": "code",
   "execution_count": 13,
   "id": "b3b6ff91",
   "metadata": {},
   "outputs": [
    {
     "name": "stdout",
     "output_type": "stream",
     "text": [
      "Model: \"sequential_2\"\n",
      "_________________________________________________________________\n",
      "Layer (type)                 Output Shape              Param #   \n",
      "=================================================================\n",
      "embedding_2 (Embedding)      (None, 100, 16)           160000    \n",
      "_________________________________________________________________\n",
      "global_average_pooling1d_2 ( (None, 16)                0         \n",
      "_________________________________________________________________\n",
      "dense_4 (Dense)              (None, 24)                408       \n",
      "_________________________________________________________________\n",
      "dense_5 (Dense)              (None, 1)                 25        \n",
      "=================================================================\n",
      "Total params: 160,433\n",
      "Trainable params: 160,433\n",
      "Non-trainable params: 0\n",
      "_________________________________________________________________\n"
     ]
    }
   ],
   "source": [
    "model = tf.keras.Sequential([\n",
    "    tf.keras.layers.Embedding(vocab_size, embedding_dim, input_length=max_length),\n",
    "    tf.keras.layers.GlobalAveragePooling1D(),\n",
    "    tf.keras.layers.Dense(24, activation='relu'),\n",
    "    tf.keras.layers.Dense(1, activation='sigmoid')\n",
    "])\n",
    "model.compile(loss='binary_crossentropy', optimizer='adam', metrics=['accuracy'])\n",
    "model.summary()"
   ]
  },
  {
   "cell_type": "code",
   "execution_count": 14,
   "id": "d68a2b17",
   "metadata": {},
   "outputs": [
    {
     "name": "stdout",
     "output_type": "stream",
     "text": [
      "Epoch 1/30\n",
      "625/625 [==============================] - 2s 2ms/step - loss: 0.6824 - accuracy: 0.5651 - val_loss: 0.5916 - val_accuracy: 0.6230\n",
      "Epoch 2/30\n",
      "625/625 [==============================] - 1s 2ms/step - loss: 0.4842 - accuracy: 0.8094 - val_loss: 0.3833 - val_accuracy: 0.8408\n",
      "Epoch 3/30\n",
      "625/625 [==============================] - 1s 2ms/step - loss: 0.3264 - accuracy: 0.8681 - val_loss: 0.3827 - val_accuracy: 0.8240\n",
      "Epoch 4/30\n",
      "625/625 [==============================] - 1s 2ms/step - loss: 0.2636 - accuracy: 0.8972 - val_loss: 0.3778 - val_accuracy: 0.8293\n",
      "Epoch 5/30\n",
      "625/625 [==============================] - 1s 2ms/step - loss: 0.2241 - accuracy: 0.9138 - val_loss: 0.3548 - val_accuracy: 0.8436\n",
      "Epoch 6/30\n",
      "625/625 [==============================] - 1s 2ms/step - loss: 0.1965 - accuracy: 0.9271 - val_loss: 0.3580 - val_accuracy: 0.8542\n",
      "Epoch 7/30\n",
      "625/625 [==============================] - 1s 2ms/step - loss: 0.1697 - accuracy: 0.9385 - val_loss: 0.3764 - val_accuracy: 0.8460\n",
      "Epoch 8/30\n",
      "625/625 [==============================] - 1s 2ms/step - loss: 0.1578 - accuracy: 0.9409 - val_loss: 0.3913 - val_accuracy: 0.8439\n",
      "Epoch 9/30\n",
      "625/625 [==============================] - 1s 2ms/step - loss: 0.1396 - accuracy: 0.9515 - val_loss: 0.3922 - val_accuracy: 0.8533\n",
      "Epoch 10/30\n",
      "625/625 [==============================] - 1s 2ms/step - loss: 0.1265 - accuracy: 0.9549 - val_loss: 0.4212 - val_accuracy: 0.8459\n",
      "Epoch 11/30\n",
      "625/625 [==============================] - 1s 2ms/step - loss: 0.1119 - accuracy: 0.9628 - val_loss: 0.4318 - val_accuracy: 0.8486\n",
      "Epoch 12/30\n",
      "625/625 [==============================] - 1s 2ms/step - loss: 0.1005 - accuracy: 0.9674 - val_loss: 0.4559 - val_accuracy: 0.8466\n",
      "Epoch 13/30\n",
      "625/625 [==============================] - 1s 2ms/step - loss: 0.0929 - accuracy: 0.9699 - val_loss: 0.4797 - val_accuracy: 0.8436\n",
      "Epoch 14/30\n",
      "625/625 [==============================] - 1s 2ms/step - loss: 0.0893 - accuracy: 0.9699 - val_loss: 0.5122 - val_accuracy: 0.8392\n",
      "Epoch 15/30\n",
      "625/625 [==============================] - 1s 2ms/step - loss: 0.0776 - accuracy: 0.9759 - val_loss: 0.5410 - val_accuracy: 0.8380\n",
      "Epoch 16/30\n",
      "625/625 [==============================] - 1s 2ms/step - loss: 0.0747 - accuracy: 0.9774 - val_loss: 0.5674 - val_accuracy: 0.8357\n",
      "Epoch 17/30\n",
      "625/625 [==============================] - 1s 2ms/step - loss: 0.0693 - accuracy: 0.9777 - val_loss: 0.6513 - val_accuracy: 0.8228\n",
      "Epoch 18/30\n",
      "625/625 [==============================] - 1s 2ms/step - loss: 0.0617 - accuracy: 0.9797 - val_loss: 0.6279 - val_accuracy: 0.8310\n",
      "Epoch 19/30\n",
      "625/625 [==============================] - 1s 2ms/step - loss: 0.0556 - accuracy: 0.9838 - val_loss: 0.6591 - val_accuracy: 0.8293\n",
      "Epoch 20/30\n",
      "625/625 [==============================] - 1s 2ms/step - loss: 0.0518 - accuracy: 0.9845 - val_loss: 0.7073 - val_accuracy: 0.8262\n",
      "Epoch 21/30\n",
      "625/625 [==============================] - 1s 2ms/step - loss: 0.0436 - accuracy: 0.9880 - val_loss: 0.7448 - val_accuracy: 0.8234\n",
      "Epoch 22/30\n",
      "625/625 [==============================] - 1s 2ms/step - loss: 0.0450 - accuracy: 0.9845 - val_loss: 0.7604 - val_accuracy: 0.8241\n",
      "Epoch 23/30\n",
      "625/625 [==============================] - 1s 2ms/step - loss: 0.0403 - accuracy: 0.9878 - val_loss: 0.7959 - val_accuracy: 0.8247\n",
      "Epoch 24/30\n",
      "625/625 [==============================] - 1s 2ms/step - loss: 0.0358 - accuracy: 0.9900 - val_loss: 0.8436 - val_accuracy: 0.8214\n",
      "Epoch 25/30\n",
      "625/625 [==============================] - 1s 2ms/step - loss: 0.0341 - accuracy: 0.9908 - val_loss: 0.8774 - val_accuracy: 0.8202\n",
      "Epoch 26/30\n",
      "625/625 [==============================] - 1s 2ms/step - loss: 0.0306 - accuracy: 0.9915 - val_loss: 0.9151 - val_accuracy: 0.8183\n",
      "Epoch 27/30\n",
      "625/625 [==============================] - 1s 2ms/step - loss: 0.0288 - accuracy: 0.9923 - val_loss: 0.9682 - val_accuracy: 0.8147\n",
      "Epoch 28/30\n",
      "625/625 [==============================] - 1s 2ms/step - loss: 0.0246 - accuracy: 0.9944 - val_loss: 0.9836 - val_accuracy: 0.8158\n",
      "Epoch 29/30\n",
      "625/625 [==============================] - 1s 2ms/step - loss: 0.0269 - accuracy: 0.9934 - val_loss: 1.0347 - val_accuracy: 0.8129\n",
      "Epoch 30/30\n",
      "625/625 [==============================] - 1s 2ms/step - loss: 0.0229 - accuracy: 0.9935 - val_loss: 1.0950 - val_accuracy: 0.8123\n"
     ]
    }
   ],
   "source": [
    "num_epochs = 30\n",
    "history = model.fit(training_padded, training_labels, epochs=num_epochs,\n",
    "                   validation_data=(testing_padded, testing_labels))"
   ]
  },
  {
   "cell_type": "code",
   "execution_count": 18,
   "id": "2c45ba67",
   "metadata": {},
   "outputs": [],
   "source": [
    "def plot_graphs(history, string):\n",
    "    plt.plot(history.history[string])\n",
    "    plt.plot(history.history['val_' + string])\n",
    "    plt.xlabel(\"epochs\")\n",
    "    plt.ylabel(string)\n",
    "    plt.legend([string, 'val_' + string])\n",
    "    plt.show()"
   ]
  },
  {
   "cell_type": "code",
   "execution_count": 19,
   "id": "01ed690b",
   "metadata": {},
   "outputs": [
    {
     "data": {
      "image/png": "[encoded data removed]",
      "text/plain": [
       "<Figure size 432x288 with 1 Axes>"
      ]
     },
     "metadata": {
      "needs_background": "light"
     },
     "output_type": "display_data"
    }
   ],
   "source": [
    "plot_graphs(history, \"accuracy\")"
   ]
  },
  {
   "cell_type": "code",
   "execution_count": 20,
   "id": "c6a855b3",
   "metadata": {},
   "outputs": [
    {
     "data": {
      "image/png": "[encoded data removed]",
      "text/plain": [
       "<Figure size 432x288 with 1 Axes>"
      ]
     },
     "metadata": {
      "needs_background": "light"
     },
     "output_type": "display_data"
    }
   ],
   "source": [
    "plot_graphs(history, \"loss\")"
   ]
  },
  {
   "cell_type": "code",
   "execution_count": 21,
   "id": "0d66ac0c",
   "metadata": {},
   "outputs": [
    {
     "name": "stdout",
     "output_type": "stream",
     "text": [
      "former <OOV> store clerk sues over secret 'black <OOV> for minority shoppers ? ? ? ? ? ? ? ? ? ? ? ? ? ? ? ? ? ? ? ? ? ? ? ? ? ? ? ? ? ? ? ? ? ? ? ? ? ? ? ? ? ? ? ? ? ? ? ? ? ? ? ? ? ? ? ? ? ? ? ? ? ? ? ? ? ? ? ? ? ? ? ? ? ? ? ? ? ? ? ? ? ? ? ? ? ? ? ?\n",
      "mom starting to fear son's web series closest thing she will have to grandchild\n",
      "1\n"
     ]
    }
   ],
   "source": [
    "reverse_word_index = dict([(value, key) for (key, value) in word_index.items()])\n",
    "\n",
    "def decode_sentence(text):\n",
    "    return ' '.join([reverse_word_index.get(i, '?') for i in text])\n",
    "\n",
    "print(decode_sentence(training_padded[0]))\n",
    "print(training_sentences[2])\n",
    "print(labels[2])"
   ]
  },
  {
   "cell_type": "code",
   "execution_count": 23,
   "id": "64060877",
   "metadata": {},
   "outputs": [
    {
     "name": "stdout",
     "output_type": "stream",
     "text": [
      "(10000, 16)\n"
     ]
    }
   ],
   "source": [
    "e = model.layers[0]\n",
    "weights = e.get_weights()[0]\n",
    "print(weights.shape)"
   ]
  },
  {
   "cell_type": "code",
   "execution_count": null,
   "id": "556052bd",
   "metadata": {},
   "outputs": [],
   "source": []
  }
 ],
 "metadata": {
  "kernelspec": {
   "display_name": "Python 3",
   "language": "python",
   "name": "python3"
  },
  "language_info": {
   "codemirror_mode": {
    "name": "ipython",
    "version": 3
   },
   "file_extension": ".py",
   "mimetype": "text/x-python",
   "name": "python",
   "nbconvert_exporter": "python",
   "pygments_lexer": "ipython3",
   "version": "3.7.9"
  }
 },
 "nbformat": 4,
 "nbformat_minor": 5
}
