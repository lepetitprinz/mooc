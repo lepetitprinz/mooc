{
 "cells": [
  {
   "cell_type": "code",
   "execution_count": 1,
   "id": "e07ce93e",
   "metadata": {},
   "outputs": [],
   "source": [
    "import io\n",
    "import numpy as np\n",
    "\n",
    "import tensorflow as tf\n",
    "import tensorflow_datasets as tfds\n",
    "from tensorflow.keras.preprocessing.text import Tokenizer\n",
    "from tensorflow.keras.preprocessing.sequence import pad_sequences"
   ]
  },
  {
   "cell_type": "code",
   "execution_count": 2,
   "id": "74b8032c",
   "metadata": {},
   "outputs": [],
   "source": [
    "imdb, info = tfds.load('imdb_reviews', with_info=True, as_supervised=True)"
   ]
  },
  {
   "cell_type": "code",
   "execution_count": 3,
   "id": "346e92a1",
   "metadata": {},
   "outputs": [],
   "source": [
    "train_data, test_data = imdb['train'], imdb['test']\n",
    "\n",
    "training_sentences = []\n",
    "training_labels = []\n",
    "\n",
    "testing_sentences = []\n",
    "testing_labels = []\n",
    "\n",
    "for s, l in train_data:\n",
    "    training_sentences.append(s.numpy().decode('utf8'))\n",
    "    training_labels.append(l.numpy())\n",
    "    \n",
    "for s, l in test_data:\n",
    "    testing_sentences.append(s.numpy().decode('utf8'))\n",
    "    testing_labels.append(l.numpy())\n",
    "    \n",
    "training_labels_final = np.array(training_labels)\n",
    "testing_labels_final = np.array(testing_labels)"
   ]
  },
  {
   "cell_type": "code",
   "execution_count": 9,
   "id": "7312a0bd",
   "metadata": {},
   "outputs": [],
   "source": [
    "vocab_size = 10000\n",
    "embedding_dim = 16\n",
    "max_length = 120\n",
    "trunc_type = 'post'\n",
    "oov_tok = \"<OOV>\""
   ]
  },
  {
   "cell_type": "code",
   "execution_count": 11,
   "id": "4b1b4352",
   "metadata": {},
   "outputs": [],
   "source": [
    "tokenizer = Tokenizer(num_words=vocab_size, oov_token=oov_tok)\n",
    "tokenizer.fit_on_texts(training_sentences)\n",
    "word_index = tokenizer.word_index\n",
    "sequences = tokenizer.texts_to_sequences(training_sentences)\n",
    "padded = pad_sequences(sequences, maxlen=max_length, truncating=trunc_type)\n",
    "\n",
    "testing_sequences = tokenizer.texts_to_sequences(testing_sentences)\n",
    "testing_padded = pad_sequences(testing_sequences, maxlen=max_length)"
   ]
  },
  {
   "cell_type": "code",
   "execution_count": 12,
   "id": "dff69f7a",
   "metadata": {},
   "outputs": [],
   "source": [
    "reverse_word_index = dict([(value, key) for (key, value) in word_index.items()])"
   ]
  },
  {
   "cell_type": "code",
   "execution_count": 17,
   "id": "2079b772",
   "metadata": {},
   "outputs": [
    {
     "name": "stdout",
     "output_type": "stream",
     "text": [
      "? ? ? ? ? ? ? ? ? ? ? ? ? ? ? ? ? ? ? ? ? ? ? ? ? ? ? ? ? ? ? this is the kind of film for a snowy sunday afternoon when the rest of the world can go ahead with its own business as you <OOV> into a big arm chair and <OOV> for a couple of hours wonderful performances from cher and nicolas cage as always gently row the plot along there are no <OOV> to cross no dangerous waters just a warm and witty <OOV> through new york life at its best a family film in every sense and one that deserves the praise it received\n",
      "This is the kind of film for a snowy Sunday afternoon when the rest of the world can go ahead with its own business as you descend into a big arm-chair and mellow for a couple of hours. Wonderful performances from Cher and Nicolas Cage (as always) gently row the plot along. There are no rapids to cross, no dangerous waters, just a warm and witty paddle through New York life at its best. A family film in every sense and one that deserves the praise it received.\n"
     ]
    }
   ],
   "source": [
    "def decode_review(text):\n",
    "    return ' '.join([reverse_word_index.get(i, '?') for i in text])\n",
    "\n",
    "print(decode_review(padded[3]))\n",
    "print(training_sentences[3])"
   ]
  },
  {
   "cell_type": "code",
   "execution_count": 20,
   "id": "d2013e49",
   "metadata": {},
   "outputs": [
    {
     "name": "stdout",
     "output_type": "stream",
     "text": [
      "Model: \"sequential_1\"\n",
      "_________________________________________________________________\n",
      "Layer (type)                 Output Shape              Param #   \n",
      "=================================================================\n",
      "embedding_1 (Embedding)      (None, 120, 16)           160000    \n",
      "_________________________________________________________________\n",
      "flatten_1 (Flatten)          (None, 1920)              0         \n",
      "_________________________________________________________________\n",
      "dense_2 (Dense)              (None, 6)                 11526     \n",
      "_________________________________________________________________\n",
      "dense_3 (Dense)              (None, 1)                 7         \n",
      "=================================================================\n",
      "Total params: 171,533\n",
      "Trainable params: 171,533\n",
      "Non-trainable params: 0\n",
      "_________________________________________________________________\n"
     ]
    }
   ],
   "source": [
    "model = tf.keras.Sequential([\n",
    "    tf.keras.layers.Embedding(vocab_size, embedding_dim, input_length=max_length),\n",
    "    tf.keras.layers.Flatten(),\n",
    "    tf.keras.layers.Dense(6, activation='relu'),\n",
    "    tf.keras.layers.Dense(1, activation='sigmoid')\n",
    "])\n",
    "model.compile(loss='binary_crossentropy', optimizer='adam', metrics=['accuracy'])\n",
    "model.summary()"
   ]
  },
  {
   "cell_type": "code",
   "execution_count": 21,
   "id": "261cc073",
   "metadata": {
    "collapsed": true
   },
   "outputs": [
    {
     "name": "stdout",
     "output_type": "stream",
     "text": [
      "Epoch 1/20\n",
      "782/782 [==============================] - 3s 3ms/step - loss: 0.6047 - accuracy: 0.6382 - val_loss: 0.3404 - val_accuracy: 0.8520\n",
      "Epoch 2/20\n",
      "782/782 [==============================] - 2s 2ms/step - loss: 0.2461 - accuracy: 0.9025 - val_loss: 0.3570 - val_accuracy: 0.8454\n",
      "Epoch 3/20\n",
      "782/782 [==============================] - 2s 2ms/step - loss: 0.1053 - accuracy: 0.9754 - val_loss: 0.4347 - val_accuracy: 0.8342\n",
      "Epoch 4/20\n",
      "782/782 [==============================] - 2s 2ms/step - loss: 0.0298 - accuracy: 0.9961 - val_loss: 0.5246 - val_accuracy: 0.8292\n",
      "Epoch 5/20\n",
      "782/782 [==============================] - 2s 2ms/step - loss: 0.0070 - accuracy: 0.9996 - val_loss: 0.5844 - val_accuracy: 0.8320\n",
      "Epoch 6/20\n",
      "782/782 [==============================] - 2s 3ms/step - loss: 0.0022 - accuracy: 1.0000 - val_loss: 0.6429 - val_accuracy: 0.8337\n",
      "Epoch 7/20\n",
      "782/782 [==============================] - 2s 3ms/step - loss: 0.0010 - accuracy: 1.0000 - val_loss: 0.6881 - val_accuracy: 0.8340\n",
      "Epoch 8/20\n",
      "782/782 [==============================] - 2s 3ms/step - loss: 5.2082e-04 - accuracy: 1.0000 - val_loss: 0.7278 - val_accuracy: 0.8349\n",
      "Epoch 9/20\n",
      "782/782 [==============================] - 2s 3ms/step - loss: 3.0099e-04 - accuracy: 1.0000 - val_loss: 0.7650 - val_accuracy: 0.8346\n",
      "Epoch 10/20\n",
      "782/782 [==============================] - 2s 3ms/step - loss: 1.7927e-04 - accuracy: 1.0000 - val_loss: 0.8013 - val_accuracy: 0.8344\n",
      "Epoch 11/20\n",
      "782/782 [==============================] - 2s 3ms/step - loss: 1.0877e-04 - accuracy: 1.0000 - val_loss: 0.8382 - val_accuracy: 0.8350\n",
      "Epoch 12/20\n",
      "782/782 [==============================] - 2s 3ms/step - loss: 6.8923e-05 - accuracy: 1.0000 - val_loss: 0.8757 - val_accuracy: 0.8351\n",
      "Epoch 13/20\n",
      "782/782 [==============================] - 2s 3ms/step - loss: 4.3032e-05 - accuracy: 1.0000 - val_loss: 0.9094 - val_accuracy: 0.8348\n",
      "Epoch 14/20\n",
      "782/782 [==============================] - 2s 3ms/step - loss: 2.6009e-05 - accuracy: 1.0000 - val_loss: 0.9449 - val_accuracy: 0.8348\n",
      "Epoch 15/20\n",
      "782/782 [==============================] - 2s 3ms/step - loss: 2.3877e-04 - accuracy: 0.9999 - val_loss: 1.2054 - val_accuracy: 0.8133\n",
      "Epoch 16/20\n",
      "782/782 [==============================] - 2s 3ms/step - loss: 0.0059 - accuracy: 0.9979 - val_loss: 1.2179 - val_accuracy: 0.8190\n",
      "Epoch 17/20\n",
      "782/782 [==============================] - 2s 3ms/step - loss: 2.8587e-04 - accuracy: 1.0000 - val_loss: 1.2421 - val_accuracy: 0.8181\n",
      "Epoch 18/20\n",
      "782/782 [==============================] - 2s 3ms/step - loss: 2.9201e-05 - accuracy: 1.0000 - val_loss: 1.2404 - val_accuracy: 0.8202\n",
      "Epoch 19/20\n",
      "782/782 [==============================] - 2s 3ms/step - loss: 1.5908e-05 - accuracy: 1.0000 - val_loss: 1.2453 - val_accuracy: 0.8202\n",
      "Epoch 20/20\n",
      "782/782 [==============================] - 2s 3ms/step - loss: 1.1213e-05 - accuracy: 1.0000 - val_loss: 1.2510 - val_accuracy: 0.8202\n"
     ]
    },
    {
     "data": {
      "text/plain": [
       "<tensorflow.python.keras.callbacks.History at 0x7fd093088290>"
      ]
     },
     "execution_count": 21,
     "metadata": {},
     "output_type": "execute_result"
    }
   ],
   "source": [
    "epochs = 20\n",
    "model.fit(padded, training_labels_final, epochs=epochs,\n",
    "          validation_data=(testing_padded, testing_labels_final))"
   ]
  },
  {
   "cell_type": "code",
   "execution_count": 22,
   "id": "d195ee62",
   "metadata": {},
   "outputs": [
    {
     "name": "stdout",
     "output_type": "stream",
     "text": [
      "(10000, 16)\n"
     ]
    }
   ],
   "source": [
    "e = model.layers[0]\n",
    "weights = e.get_weights()[0]\n",
    "print(weights.shape)"
   ]
  },
  {
   "cell_type": "code",
   "execution_count": 26,
   "id": "8b9a06b7",
   "metadata": {},
   "outputs": [],
   "source": [
    "out_v = io.open('vecs.tsv', 'w', encoding='utf-8')\n",
    "out_m = io.open('meta.tsv', 'w', encoding='utf-8')\n",
    "\n",
    "for word_num in range(1, vocab_size):\n",
    "    word = reverse_word_index[word_num]\n",
    "    embeddings = weights[word_num]\n",
    "    out_m.write(word + \"\\n\")\n",
    "    out_v.write('\\t'.join([str(x) for x in embeddings]) + \"\\n\")\n",
    "out_v.close()\n",
    "out_m.close()"
   ]
  },
  {
   "cell_type": "code",
   "execution_count": null,
   "id": "956329f4",
   "metadata": {},
   "outputs": [],
   "source": []
  }
 ],
 "metadata": {
  "kernelspec": {
   "display_name": "Python 3",
   "language": "python",
   "name": "python3"
  },
  "language_info": {
   "codemirror_mode": {
    "name": "ipython",
    "version": 3
   },
   "file_extension": ".py",
   "mimetype": "text/x-python",
   "name": "python",
   "nbconvert_exporter": "python",
   "pygments_lexer": "ipython3",
   "version": "3.7.9"
  }
 },
 "nbformat": 4,
 "nbformat_minor": 5
}
