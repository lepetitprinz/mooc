{
 "cells": [
  {
   "cell_type": "code",
   "execution_count": 25,
   "id": "8a06f308",
   "metadata": {},
   "outputs": [],
   "source": [
    "import os\n",
    "\n",
    "import matplotlib.pyplot as plt\n",
    "\n",
    "import tensorflow as tf\n",
    "from tensorflow.keras.optimizers import RMSprop\n",
    "from tensorflow.keras.preprocessing.image import ImageDataGenerator"
   ]
  },
  {
   "cell_type": "code",
   "execution_count": 13,
   "id": "bbfaf0b1",
   "metadata": {},
   "outputs": [],
   "source": [
    "base_dir = os.path.join('/', 'Users', 'yjkim', 'data', 'images', 'cats_and_dogs')\n",
    "train_dir = os.path.join(base_dir, 'train')\n",
    "validation_dir = os.path.join(base_dir, 'validation')"
   ]
  },
  {
   "cell_type": "code",
   "execution_count": 14,
   "id": "f0237165",
   "metadata": {},
   "outputs": [],
   "source": [
    "train_cats_dir = os.path.join(train_dir, 'cats')\n",
    "train_dogs_dir = os.path.join(train_dir, 'dogs')\n",
    "\n",
    "validation_cats_dir = os.path.join(validation_dir, 'cats')\n",
    "validation_dogs_dir = os.path.join(validation_dir, 'dogs')"
   ]
  },
  {
   "cell_type": "code",
   "execution_count": 15,
   "id": "bea8ea2b",
   "metadata": {},
   "outputs": [],
   "source": [
    "# set model\n",
    "model = tf.keras.models.Sequential()\n",
    "model.add(tf.keras.layers.Conv2D(32, (3, 3), activation='relu', input_shape=(150, 150, 3)))\n",
    "model.add(tf.keras.layers.MaxPooling2D(2, 2))\n",
    "model.add(tf.keras.layers.Conv2D(64, (3, 3), activation='relu'))\n",
    "model.add(tf.keras.layers.MaxPooling2D(2, 2))\n",
    "model.add(tf.keras.layers.Conv2D(128, (3, 3), activation='relu'))\n",
    "model.add(tf.keras.layers.MaxPooling2D(2, 2))\n",
    "model.add(tf.keras.layers.Conv2D(128, (3, 3), activation='relu'))\n",
    "model.add(tf.keras.layers.MaxPooling2D(2, 2))\n",
    "model.add(tf.keras.layers.Flatten())\n",
    "model.add(tf.keras.layers.Dense(512, activation='relu'))\n",
    "model.add(tf.keras.layers.Dense(1, activation='sigmoid'))"
   ]
  },
  {
   "cell_type": "code",
   "execution_count": 16,
   "id": "97650663",
   "metadata": {},
   "outputs": [],
   "source": [
    "model.compile(optimizer=RMSprop(lr=0.0001),\n",
    "              loss='binary_crossentropy',\n",
    "              metrics=['accuracy'])"
   ]
  },
  {
   "cell_type": "code",
   "execution_count": 17,
   "id": "b9c20209",
   "metadata": {},
   "outputs": [],
   "source": [
    "train_datagen = ImageDataGenerator(rescale=1./255)\n",
    "validation_datagen = ImageDataGenerator(rescale=1./255)"
   ]
  },
  {
   "cell_type": "code",
   "execution_count": 18,
   "id": "dffb9701",
   "metadata": {},
   "outputs": [
    {
     "name": "stdout",
     "output_type": "stream",
     "text": [
      "Found 2000 images belonging to 2 classes.\n",
      "Found 1000 images belonging to 2 classes.\n"
     ]
    }
   ],
   "source": [
    "train_generator = train_datagen.flow_from_directory(\n",
    "                    train_dir,\n",
    "                    target_size=(150, 150),\n",
    "                    batch_size=20,\n",
    "                    class_mode='binary')\n",
    "\n",
    "validation_generator = validation_datagen.flow_from_directory(\n",
    "                        validation_dir,\n",
    "                        target_size=(150, 150),\n",
    "                        batch_size=20,\n",
    "                        class_mode='binary')"
   ]
  },
  {
   "cell_type": "code",
   "execution_count": 21,
   "id": "12869cb0",
   "metadata": {
    "scrolled": true
   },
   "outputs": [
    {
     "name": "stdout",
     "output_type": "stream",
     "text": [
      "Epoch 1/10\n",
      "100/100 - 36s - loss: 0.6889 - accuracy: 0.5520 - val_loss: 0.6719 - val_accuracy: 0.6070\n",
      "Epoch 2/10\n",
      "100/100 - 35s - loss: 0.6586 - accuracy: 0.6030 - val_loss: 0.6407 - val_accuracy: 0.6620\n",
      "Epoch 3/10\n",
      "100/100 - 35s - loss: 0.6257 - accuracy: 0.6495 - val_loss: 0.6334 - val_accuracy: 0.6660\n",
      "Epoch 4/10\n",
      "100/100 - 35s - loss: 0.5824 - accuracy: 0.6910 - val_loss: 0.6202 - val_accuracy: 0.6750\n",
      "Epoch 5/10\n",
      "100/100 - 36s - loss: 0.5406 - accuracy: 0.7250 - val_loss: 0.5656 - val_accuracy: 0.7030\n",
      "Epoch 6/10\n",
      "100/100 - 36s - loss: 0.5057 - accuracy: 0.7520 - val_loss: 0.5525 - val_accuracy: 0.7210\n",
      "Epoch 7/10\n",
      "100/100 - 35s - loss: 0.4675 - accuracy: 0.7805 - val_loss: 0.6089 - val_accuracy: 0.6750\n",
      "Epoch 8/10\n",
      "100/100 - 35s - loss: 0.4448 - accuracy: 0.7965 - val_loss: 0.5297 - val_accuracy: 0.7430\n",
      "Epoch 9/10\n",
      "100/100 - 35s - loss: 0.4138 - accuracy: 0.8140 - val_loss: 0.5194 - val_accuracy: 0.7430\n",
      "Epoch 10/10\n",
      "100/100 - 35s - loss: 0.3920 - accuracy: 0.8285 - val_loss: 0.5791 - val_accuracy: 0.7140\n"
     ]
    }
   ],
   "source": [
    "history = model.fit(train_generator,\n",
    "                    epochs=10,\n",
    "                    steps_per_epoch=100,    # 2000 images = batch_size * steps\n",
    "                    validation_data=validation_generator,\n",
    "                    validation_steps=50,    # 1000 images = batch_size * steps\n",
    "                    verbose=2\n",
    "                   )"
   ]
  },
  {
   "cell_type": "code",
   "execution_count": 23,
   "id": "c0b151a3",
   "metadata": {},
   "outputs": [],
   "source": [
    "acc = history.history['accuracy']\n",
    "val_acc = history.history['val_accuracy']\n",
    "loss = history.history['loss']\n",
    "val_loss = history.history['val_loss']\n",
    "epochs = range(len(acc))"
   ]
  },
  {
   "cell_type": "code",
   "execution_count": 28,
   "id": "d15bb41c",
   "metadata": {},
   "outputs": [
    {
     "data": {
      "image/png": "[encoded data removed]",
      "text/plain": [
       "<Figure size 432x288 with 1 Axes>"
      ]
     },
     "metadata": {
      "needs_background": "light"
     },
     "output_type": "display_data"
    }
   ],
   "source": [
    "plt.plot(epochs, acc, label='accuracy')\n",
    "plt.plot(epochs, val_acc, label='validation accuracy')\n",
    "plt.legend()\n",
    "plt.title('compare train and validation accuracy')\n",
    "plt.show()"
   ]
  },
  {
   "cell_type": "code",
   "execution_count": 29,
   "id": "2cff8370",
   "metadata": {},
   "outputs": [
    {
     "data": {
      "image/png": "[encoded data removed]",
      "text/plain": [
       "<Figure size 432x288 with 1 Axes>"
      ]
     },
     "metadata": {
      "needs_background": "light"
     },
     "output_type": "display_data"
    }
   ],
   "source": [
    "plt.plot(epochs, loss, label='loss')\n",
    "plt.plot(epochs, val_loss, label='validation loss')\n",
    "plt.legend()\n",
    "plt.title('compare train and validation loss')\n",
    "plt.show()"
   ]
  },
  {
   "cell_type": "markdown",
   "id": "0c1af0ba",
   "metadata": {},
   "source": [
    "The Training Accuracy is close to 100%, and the validation accuracy is in the 70%-80% range. This is a great example of overfitting -- which in short means that it can do very well with images it has seen before, but not so well with images it hasn't. Let's see if we can do better to avoid overfitting -- and one simple method is to augment the images a bit. If you think about it, most pictures of a cat are very similar -- the ears are at the top, then the eyes, then the mouth etc. Things like the distance between the eyes and ears will always be quite similar too."
   ]
  },
  {
   "cell_type": "markdown",
   "id": "7820259f",
   "metadata": {},
   "source": [
    "#### using agumentation"
   ]
  },
  {
   "cell_type": "code",
   "execution_count": 30,
   "id": "52627e80",
   "metadata": {},
   "outputs": [],
   "source": [
    "# set model\n",
    "model = tf.keras.models.Sequential()\n",
    "model.add(tf.keras.layers.Conv2D(32, (3, 3), activation='relu', input_shape=(150, 150, 3)))\n",
    "model.add(tf.keras.layers.MaxPooling2D(2, 2))\n",
    "model.add(tf.keras.layers.Conv2D(64, (3, 3), activation='relu'))\n",
    "model.add(tf.keras.layers.MaxPooling2D(2, 2))\n",
    "model.add(tf.keras.layers.Conv2D(128, (3, 3), activation='relu'))\n",
    "model.add(tf.keras.layers.MaxPooling2D(2, 2))\n",
    "model.add(tf.keras.layers.Conv2D(128, (3, 3), activation='relu'))\n",
    "model.add(tf.keras.layers.MaxPooling2D(2, 2))\n",
    "model.add(tf.keras.layers.Flatten())\n",
    "model.add(tf.keras.layers.Dense(512, activation='relu'))\n",
    "model.add(tf.keras.layers.Dense(1, activation='sigmoid'))"
   ]
  },
  {
   "cell_type": "code",
   "execution_count": 31,
   "id": "92d33e9a",
   "metadata": {},
   "outputs": [],
   "source": [
    "model.compile(optimizer=RMSprop(lr=0.0001),\n",
    "              loss='binary_crossentropy',\n",
    "              metrics=['accuracy'])"
   ]
  },
  {
   "cell_type": "code",
   "execution_count": 32,
   "id": "2032e39a",
   "metadata": {},
   "outputs": [],
   "source": [
    "train_datagen = ImageDataGenerator(\n",
    "                    rescale=1./255,\n",
    "                    rotation_range=40,\n",
    "                    width_shift_range=0.2,\n",
    "                    height_shift_range=0.2,\n",
    "                    shear_range=0.2,\n",
    "                    zoom_range=0.2,\n",
    "                    horizontal_flip=True,\n",
    "                    fill_mode='nearest')"
   ]
  },
  {
   "cell_type": "code",
   "execution_count": 34,
   "id": "37fea730",
   "metadata": {},
   "outputs": [],
   "source": [
    "validation_datagen = ImageDataGenerator(rescale=1./255)"
   ]
  },
  {
   "cell_type": "code",
   "execution_count": 37,
   "id": "bb39782b",
   "metadata": {},
   "outputs": [
    {
     "name": "stdout",
     "output_type": "stream",
     "text": [
      "Found 2000 images belonging to 2 classes.\n",
      "Found 1000 images belonging to 2 classes.\n"
     ]
    }
   ],
   "source": [
    "train_generator = train_datagen.flow_from_directory(\n",
    "                    train_dir,\n",
    "                    target_size=(150, 150),\n",
    "                    batch_size=20,\n",
    "                    class_mode='binary')\n",
    "\n",
    "validation_generator = validation_datagen.flow_from_directory(\n",
    "                        validation_dir,\n",
    "                        target_size=(150, 150),\n",
    "                        batch_size=20,\n",
    "                        class_mode='binary')"
   ]
  },
  {
   "cell_type": "code",
   "execution_count": 39,
   "id": "96d4665a",
   "metadata": {},
   "outputs": [
    {
     "name": "stdout",
     "output_type": "stream",
     "text": [
      "Epoch 1/10\n",
      "100/100 - 40s - loss: 0.6948 - accuracy: 0.5275 - val_loss: 0.6777 - val_accuracy: 0.6040\n",
      "Epoch 2/10\n",
      "100/100 - 38s - loss: 0.6845 - accuracy: 0.5650 - val_loss: 0.6840 - val_accuracy: 0.5220\n",
      "Epoch 3/10\n",
      "100/100 - 38s - loss: 0.6710 - accuracy: 0.5785 - val_loss: 0.6314 - val_accuracy: 0.6400\n",
      "Epoch 4/10\n",
      "100/100 - 38s - loss: 0.6600 - accuracy: 0.6035 - val_loss: 0.6237 - val_accuracy: 0.6130\n",
      "Epoch 5/10\n",
      "100/100 - 37s - loss: 0.6399 - accuracy: 0.6325 - val_loss: 0.5875 - val_accuracy: 0.7050\n",
      "Epoch 6/10\n",
      "100/100 - 38s - loss: 0.6253 - accuracy: 0.6455 - val_loss: 0.6081 - val_accuracy: 0.6600\n",
      "Epoch 7/10\n",
      "100/100 - 38s - loss: 0.6122 - accuracy: 0.6600 - val_loss: 0.6244 - val_accuracy: 0.6400\n",
      "Epoch 8/10\n",
      "100/100 - 38s - loss: 0.6080 - accuracy: 0.6695 - val_loss: 0.5703 - val_accuracy: 0.6930\n",
      "Epoch 9/10\n",
      "100/100 - 38s - loss: 0.5923 - accuracy: 0.6705 - val_loss: 0.5479 - val_accuracy: 0.7190\n",
      "Epoch 10/10\n",
      "100/100 - 38s - loss: 0.5819 - accuracy: 0.6950 - val_loss: 0.5375 - val_accuracy: 0.7330\n"
     ]
    }
   ],
   "source": [
    "history = model.fit(\n",
    "            train_generator,\n",
    "            epochs=10,\n",
    "            steps_per_epoch=100,\n",
    "            validation_data=validation_generator,\n",
    "            validation_steps=50,\n",
    "            verbose=2)"
   ]
  },
  {
   "cell_type": "code",
   "execution_count": 40,
   "id": "15f43457",
   "metadata": {},
   "outputs": [],
   "source": [
    "acc = history.history['accuracy']\n",
    "val_acc = history.history['val_accuracy']\n",
    "loss = history.history['loss']\n",
    "val_loss = history.history['val_loss']\n",
    "epochs = range(len(acc))"
   ]
  },
  {
   "cell_type": "code",
   "execution_count": 41,
   "id": "a4de68f6",
   "metadata": {},
   "outputs": [
    {
     "data": {
      "image/png": "[encoded data removed]",
      "text/plain": [
       "<Figure size 432x288 with 1 Axes>"
      ]
     },
     "metadata": {
      "needs_background": "light"
     },
     "output_type": "display_data"
    }
   ],
   "source": [
    "plt.plot(epochs, acc, label='accuracy')\n",
    "plt.plot(epochs, val_acc, label='validation accuracy')\n",
    "plt.legend()\n",
    "plt.title('compare train and validation accuracy')\n",
    "plt.show()"
   ]
  },
  {
   "cell_type": "code",
   "execution_count": null,
   "id": "8044e6df",
   "metadata": {},
   "outputs": [],
   "source": []
  }
 ],
 "metadata": {
  "kernelspec": {
   "display_name": "Python 3",
   "language": "python",
   "name": "python3"
  },
  "language_info": {
   "codemirror_mode": {
    "name": "ipython",
    "version": 3
   },
   "file_extension": ".py",
   "mimetype": "text/x-python",
   "name": "python",
   "nbconvert_exporter": "python",
   "pygments_lexer": "ipython3",
   "version": "3.7.9"
  }
 },
 "nbformat": 4,
 "nbformat_minor": 5
}
